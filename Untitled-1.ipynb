{
 "cells": [
  {
   "cell_type": "code",
   "execution_count": 1,
   "metadata": {},
   "outputs": [
    {
     "name": "stdout",
     "output_type": "stream",
     "text": [
      "hello\n"
     ]
    }
   ],
   "source": [
    "print(\"hello\")"
   ]
  },
  {
   "cell_type": "code",
   "execution_count": 2,
   "metadata": {},
   "outputs": [
    {
     "name": "stdout",
     "output_type": "stream",
     "text": [
      "6\n"
     ]
    }
   ],
   "source": [
    "#Numbers\n",
    "print(2 + 4)"
   ]
  },
  {
   "cell_type": "code",
   "execution_count": 3,
   "metadata": {},
   "outputs": [
    {
     "name": "stdout",
     "output_type": "stream",
     "text": [
      "4\n",
      "20\n"
     ]
    }
   ],
   "source": [
    "#math functions\n",
    "print(round(3.9))\n",
    "print(abs(-20))"
   ]
  },
  {
   "cell_type": "code",
   "execution_count": 4,
   "metadata": {},
   "outputs": [
    {
     "name": "stdout",
     "output_type": "stream",
     "text": [
      "45.0\n",
      "45.0\n",
      "45.0\n",
      "25.0\n",
      "25\n"
     ]
    }
   ],
   "source": [
    "#operator precedence\n",
    "print((5 + 4) * 10 / 2)\n",
    "print(((5 + 4) * 10) / 2)\n",
    "print((5 + 4) * (10 / 2))\n",
    "print(5 + (4 * 10) / 2)\n",
    "print(5 + 4 * 10 // 2)"
   ]
  },
  {
   "cell_type": "code",
   "execution_count": 5,
   "metadata": {},
   "outputs": [
    {
     "name": "stdout",
     "output_type": "stream",
     "text": [
      "20\n"
     ]
    }
   ],
   "source": [
    "#augmented operator\n",
    "a = 10\n",
    "a += 10\n",
    "print(a)"
   ]
  },
  {
   "cell_type": "code",
   "execution_count": 6,
   "metadata": {},
   "outputs": [
    {
     "name": "stdout",
     "output_type": "stream",
     "text": [
      " Hello\n",
      "People of wakanda xd\n"
     ]
    }
   ],
   "source": [
    "#String\n",
    "s = ''' Hello\n",
    "People of wakanda xd'''\n",
    "print(s)"
   ]
  },
  {
   "cell_type": "code",
   "execution_count": 7,
   "metadata": {},
   "outputs": [
    {
     "name": "stdout",
     "output_type": "stream",
     "text": [
      "ab\n"
     ]
    }
   ],
   "source": [
    "#concatination\n",
    "s = 'a' + 'b'\n",
    "print(s)"
   ]
  },
  {
   "cell_type": "code",
   "execution_count": 8,
   "metadata": {},
   "outputs": [
    {
     "name": "stdout",
     "output_type": "stream",
     "text": [
      "<class 'str'>\n",
      "<class 'int'>\n"
     ]
    }
   ],
   "source": [
    "#type conversion\n",
    "a = str(100)\n",
    "b = int('10')\n",
    "print(type(a))\n",
    "print(type(b))"
   ]
  },
  {
   "cell_type": "code",
   "execution_count": 9,
   "metadata": {},
   "outputs": [
    {
     "name": "stdout",
     "output_type": "stream",
     "text": [
      "It's \"kind of\" sunny\n"
     ]
    }
   ],
   "source": [
    "#escape sequence\n",
    "se = \"It\\'s \\\"kind of\\\" sunny\"\n",
    "print(se)"
   ]
  },
  {
   "cell_type": "code",
   "execution_count": 10,
   "metadata": {},
   "outputs": [
    {
     "name": "stdout",
     "output_type": "stream",
     "text": [
      "Hello darshan your age is 23\n",
      "Hello darshan your age is 23\n"
     ]
    }
   ],
   "source": [
    "#formatted strings\n",
    "name = 'darshan'\n",
    "age = 23\n",
    "print(f'Hello {name} your age is {age}')\n",
    "print('Hello {} your age is {}'.format(name,age))\n"
   ]
  },
  {
   "cell_type": "code",
   "execution_count": 11,
   "metadata": {},
   "outputs": [
    {
     "name": "stdout",
     "output_type": "stream",
     "text": [
      "1\n",
      "12\n",
      "1357\n",
      "76543210\n"
     ]
    }
   ],
   "source": [
    "#String Indexes\n",
    "str = \"01234567\"\n",
    "print(str[1])\n",
    "print(str[1:3])\n",
    "print(str[1:8:2]) # stepover\n",
    "print(str[::-1]) #reverse\n"
   ]
  },
  {
   "cell_type": "code",
   "execution_count": 12,
   "metadata": {},
   "outputs": [
    {
     "name": "stdout",
     "output_type": "stream",
     "text": [
      "6\n",
      "dexter\n",
      "DEXTER\n",
      "Dexter\n",
      "bexter\n",
      "0\n",
      "1\n"
     ]
    }
   ],
   "source": [
    "#String methods\n",
    "str = 'dexter'\n",
    "print(len(str))\n",
    "print(str.lower())\n",
    "print(str.upper())\n",
    "print(str.capitalize())\n",
    "print(str.replace('d','b'))\n",
    "print(str.find('d'))\n",
    "print(str.index('e'))"
   ]
  },
  {
   "cell_type": "code",
   "execution_count": 14,
   "metadata": {},
   "outputs": [
    {
     "name": "stdout",
     "output_type": "stream",
     "text": [
      "Born in 1, age is 2021\n"
     ]
    }
   ],
   "source": [
    "#type conversion\n",
    "year = int(input(\"What year were you born\"))\n",
    "age = 2022 - year\n",
    "print(f'Born in {year}, age is {age}')"
   ]
  },
  {
   "cell_type": "code",
   "execution_count": 15,
   "metadata": {},
   "outputs": [
    {
     "name": "stdout",
     "output_type": "stream",
     "text": [
      "Your user name is :dg \n",
      "Your password ** has 2 characters\n"
     ]
    }
   ],
   "source": [
    "#Task\n",
    "userName = input('Enter your name:')\n",
    "password = input('Enter password')\n",
    "pass_length = len(password)\n",
    "encode = '*' * pass_length\n",
    "print(f'Your user name is :{userName} \\nYour password {encode} has {pass_length} characters')"
   ]
  },
  {
   "cell_type": "code",
   "execution_count": 16,
   "metadata": {},
   "outputs": [
    {
     "name": "stdout",
     "output_type": "stream",
     "text": [
      "l1=['dg', 1, 2, 'Go']\n",
      "lis=['dg', 1, 2, 'Go']\n",
      "Copy=['changed', 1, 2, 'Go']\n",
      "lis=['dg', 1, 2, 'Go']\n"
     ]
    }
   ],
   "source": [
    "#lists & list indexing\n",
    "lis = ['dex',1,2,'Go']\n",
    "l1 = lis #memory assigned to l1\n",
    "l1[0] = 'dg' #changes made in l1 reflect in lis since it shares same memory\n",
    "print(f'l1={l1}')\n",
    "print(f'lis={lis}')\n",
    "\n",
    "#to copy a list\n",
    "copy_lis = lis[:]\n",
    "copy_lis[0] = 'changed'\n",
    "print(f'Copy={copy_lis}')\n",
    "print(f'lis={lis}')\n"
   ]
  },
  {
   "cell_type": "code",
   "execution_count": 17,
   "metadata": {},
   "outputs": [
    {
     "name": "stdout",
     "output_type": "stream",
     "text": [
      "2\n"
     ]
    }
   ],
   "source": [
    "#Matrix\n",
    "matrix = [[1,2,3],[4,5,6]]\n",
    "print(matrix[0][1])"
   ]
  },
  {
   "cell_type": "code",
   "execution_count": 18,
   "metadata": {},
   "outputs": [
    {
     "name": "stdout",
     "output_type": "stream",
     "text": [
      "['dg', 1, 2, 'Go', 100]\n",
      "['dg', 1, 2, 'Go', 200, 100]\n",
      "['dg', 1, 2, 'Go', 200, 100, 300, 400]\n",
      "['dg', 1, 2, 'Go', 200, 100, 300]\n",
      "dg\n",
      "[1, 2, 'Go', 200, 100, 300]\n",
      "[1, 2, 200, 100, 300]\n"
     ]
    }
   ],
   "source": [
    "#lists\n",
    "lis.append(100)\n",
    "print(lis)\n",
    "lis.insert(4,200)\n",
    "print(lis)\n",
    "lis.extend([300,400])\n",
    "print(lis)\n",
    "lis.pop()\n",
    "print(lis)\n",
    "a = lis.pop(0)\n",
    "print(a)#pop returns the removed value \n",
    "print(lis)\n",
    "lis.remove('Go')\n",
    "print(lis)\n",
    "#lis.clear()"
   ]
  },
  {
   "cell_type": "code",
   "execution_count": 19,
   "metadata": {},
   "outputs": [
    {
     "ename": "TypeError",
     "evalue": "descriptor 'index' for 'list' objects doesn't apply to a 'str' object",
     "output_type": "error",
     "traceback": [
      "\u001b[0;31m---------------------------------------------------------------------------\u001b[0m",
      "\u001b[0;31mTypeError\u001b[0m                                 Traceback (most recent call last)",
      "\u001b[1;32m/home/darshan/Documents/Python/Untitled-1.ipynb Cell 18\u001b[0m in \u001b[0;36m<cell line: 3>\u001b[0;34m()\u001b[0m\n\u001b[1;32m      <a href='vscode-notebook-cell:/home/darshan/Documents/Python/Untitled-1.ipynb#X23sZmlsZQ%3D%3D?line=0'>1</a>\u001b[0m \u001b[39m#methods 2\u001b[39;00m\n\u001b[1;32m      <a href='vscode-notebook-cell:/home/darshan/Documents/Python/Untitled-1.ipynb#X23sZmlsZQ%3D%3D?line=1'>2</a>\u001b[0m lg \u001b[39m=\u001b[39m [\u001b[39m'\u001b[39m\u001b[39mb\u001b[39m\u001b[39m'\u001b[39m,\u001b[39m'\u001b[39m\u001b[39ma\u001b[39m\u001b[39m'\u001b[39m,\u001b[39m'\u001b[39m\u001b[39mc\u001b[39m\u001b[39m'\u001b[39m,\u001b[39m'\u001b[39m\u001b[39md\u001b[39m\u001b[39m'\u001b[39m]\n\u001b[0;32m----> <a href='vscode-notebook-cell:/home/darshan/Documents/Python/Untitled-1.ipynb#X23sZmlsZQ%3D%3D?line=2'>3</a>\u001b[0m \u001b[39mprint\u001b[39m(\u001b[39mlist\u001b[39;49m\u001b[39m.\u001b[39;49mindex(\u001b[39m'\u001b[39;49m\u001b[39ma\u001b[39;49m\u001b[39m'\u001b[39;49m,\u001b[39m0\u001b[39;49m,\u001b[39m3\u001b[39;49m))\n",
      "\u001b[0;31mTypeError\u001b[0m: descriptor 'index' for 'list' objects doesn't apply to a 'str' object"
     ]
    }
   ],
   "source": [
    "#methods 2\n",
    "lg = ['b','a','c','d']\n",
    "print(list.index('a',0,3)) #value,start,stop"
   ]
  },
  {
   "cell_type": "code",
   "execution_count": null,
   "metadata": {},
   "outputs": [],
   "source": [
    "#list common patterns\n",
    "li = lis[::-1]\n",
    "print(li)\n",
    "print(list(range(10)))\n",
    "s = '*'\n",
    "g = s.join(['Hey','World','welcome','to','planet','earth'])\n",
    "print(g)"
   ]
  },
  {
   "cell_type": "code",
   "execution_count": 20,
   "metadata": {},
   "outputs": [
    {
     "name": "stdout",
     "output_type": "stream",
     "text": [
      "1\n",
      "2\n",
      "3\n",
      "[4, 5, 6]\n",
      "7\n"
     ]
    }
   ],
   "source": [
    "#list unpacking\n",
    "a,b,c, *other , d = [1,2,3,4,5,6,7]\n",
    "print(a)\n",
    "print(b)\n",
    "print(c)\n",
    "print(other)\n",
    "print(d)"
   ]
  },
  {
   "cell_type": "code",
   "execution_count": 21,
   "metadata": {},
   "outputs": [
    {
     "name": "stdout",
     "output_type": "stream",
     "text": [
      "[1, 2, 3, 4]\n",
      "Hello\n",
      "True\n"
     ]
    }
   ],
   "source": [
    "#dictionary\n",
    "dict = {'a':[1,2,3,4],\n",
    "        'b':'Hello',\n",
    "        'c':True,\n",
    "        }\n",
    "print(dict['a'])\n",
    "print(dict['b'])\n",
    "print(dict['c'])\n"
   ]
  },
  {
   "cell_type": "code",
   "execution_count": 22,
   "metadata": {},
   "outputs": [
    {
     "name": "stdout",
     "output_type": "stream",
     "text": [
      "[1, 2, 3, 4]\n",
      "Hello\n",
      "True\n"
     ]
    }
   ],
   "source": [
    "#keys\n",
    "dict1 = {123:[1,2,3,4],\n",
    "        True:'Hello',\n",
    "        'dg':True,\n",
    "        'age' : 40}\n",
    "print(dict1[123])\n",
    "print(dict1[True])\n",
    "print(dict1['dg'])\n"
   ]
  },
  {
   "cell_type": "code",
   "execution_count": 23,
   "metadata": {},
   "outputs": [
    {
     "name": "stdout",
     "output_type": "stream",
     "text": [
      "[1, 2, 3, 4]\n",
      "40\n",
      "Darshan\n",
      "23\n",
      "True\n",
      "True\n",
      "True\n",
      "dict_items([(123, [1, 2, 3, 4]), (True, 'Hello'), ('dg', True), ('age', 23)])\n",
      "{123: [1, 2, 3, 4], True: 'Hello', 'dg': True, 'age': 23}\n",
      "{123: [1, 2, 3, 4], True: 'Hello'}\n",
      "{}\n"
     ]
    }
   ],
   "source": [
    "#dictionary methods\n",
    "print(dict1.get(123))\n",
    "print(dict1['age'])\n",
    "print(dict1.get('name','Darshan')) #looks for key name if not present default value is set to Darshan, does not modify \n",
    "dict1.update({'age':23}) #does not return anything modifes dict\n",
    "print(dict1['age'])\n",
    "print(123 in dict1)\n",
    "print('age' in dict1.keys())\n",
    "print('Hello' in dict1.values())\n",
    "print(dict1.items())\n",
    "dict2 = dict1.copy()\n",
    "print(dict2)\n",
    "dict1.pop('age') #removes age\n",
    "dict1.popitem() #REMOVES RANDOM KEY/VALUE\n",
    "print(dict1)\n",
    "dict2.clear()#clear disctionary\n",
    "print(dict2)"
   ]
  },
  {
   "cell_type": "code",
   "execution_count": 24,
   "metadata": {},
   "outputs": [
    {
     "name": "stdout",
     "output_type": "stream",
     "text": [
      "[1, 2, 3, 4]\n",
      "1\n",
      "2\n",
      "3\n",
      "[4, 5, 5, 6]\n",
      "2\n",
      "3\n"
     ]
    }
   ],
   "source": [
    "#tuples\n",
    "t = (1,2,3,4,5,5,6)\n",
    "dt = {(1,2):[1,2,3,4]} # tuples can be used as keys\n",
    "print(dt[(1,2)])\n",
    "x,y,z, *other = t\n",
    "print(x)\n",
    "print(y)\n",
    "print(z)\n",
    "print(other)\n",
    "print(t.count(5))\n",
    "print(t.index(4))"
   ]
  },
  {
   "cell_type": "code",
   "execution_count": 25,
   "metadata": {},
   "outputs": [
    {
     "name": "stdout",
     "output_type": "stream",
     "text": [
      "{1, 2, 3, 4, 5}\n"
     ]
    }
   ],
   "source": [
    "#sets\n",
    "my_list = [1,2,3,4,5,5]\n",
    "\n",
    "#return list without duplicate values\n",
    "my_list = set(my_list)\n",
    "print(my_list)"
   ]
  },
  {
   "cell_type": "code",
   "execution_count": 26,
   "metadata": {},
   "outputs": [
    {
     "name": "stdout",
     "output_type": "stream",
     "text": [
      "{1, 2, 3}\n",
      "{1, 2, 3, 4, 5}\n",
      "{1, 2, 3}\n",
      "{1, 2, 3}\n",
      "True\n",
      "{1, 2, 3, 4, 5, 6, 7, 8, 9, 10}\n"
     ]
    }
   ],
   "source": [
    "my_set = { 1,2,3,4,5 }\n",
    "your_set = { 4,5,6,7,8,9,10 }\n",
    "print(my_set.difference(your_set)) #return new set\n",
    "print(my_set)\n",
    "my_set.difference_update(your_set)#modifies set returns none\n",
    "print(my_set)\n",
    "my_set & your_set #intersection (modifies set)\n",
    "print(my_set)\n",
    "print(my_set.isdisjoint(your_set)) \n",
    "# .issubset ( )\n",
    "# .issuperset ( )\n",
    "print ( my_set | your_set ) #union"
   ]
  },
  {
   "cell_type": "code",
   "execution_count": 27,
   "metadata": {},
   "outputs": [
    {
     "name": "stdout",
     "output_type": "stream",
     "text": [
      "hahhahahahha\n"
     ]
    }
   ],
   "source": [
    "#condtional operator\n",
    "a = 10\n",
    "if a == 9:\n",
    "     print(\"hello\")\n",
    "elif a == 8:\n",
    "     print(\"Bye\")\n",
    "else:\n",
    "     print(\"hahhahahahha\")"
   ]
  },
  {
   "cell_type": "code",
   "execution_count": 28,
   "metadata": {},
   "outputs": [
    {
     "name": "stdout",
     "output_type": "stream",
     "text": [
      "10\n",
      "20\n"
     ]
    }
   ],
   "source": [
    "#ternary operator\n",
    "a,b =10,20\n",
    "min = a if a<b else b\n",
    "max = a if a>b else b\n",
    "print(min)\n",
    "print(max)"
   ]
  },
  {
   "cell_type": "code",
   "execution_count": 29,
   "metadata": {},
   "outputs": [
    {
     "name": "stdout",
     "output_type": "stream",
     "text": [
      "You need magic powers\n"
     ]
    }
   ],
   "source": [
    "#logical operartors Excercise\n",
    "is_magician = False\n",
    "is_expert = True\n",
    "# chek if magician AND expert : \" you are a master magician \"\n",
    "# check if magician but not expert :\n",
    "\" at least you're getting there \"\n",
    "# if you're not a magician : \" You need magic powers \"\n",
    "\n",
    "if is_magician and is_expert:\n",
    "     print(\"you are a master magician\")\n",
    "elif is_magician and not(is_expert):\n",
    "     print(\"at least you're getting there\")\n",
    "elif not(is_magician):\n",
    "     print(\"You need magic powers\")\n",
    "\n",
    "\n",
    "\n"
   ]
  },
  {
   "cell_type": "code",
   "execution_count": 30,
   "metadata": {},
   "outputs": [
    {
     "name": "stdout",
     "output_type": "stream",
     "text": [
      "['1245']\n",
      "['dgh']\n",
      "['#@$']\n"
     ]
    }
   ],
   "source": [
    "import re\n",
    "a = \"#@$1245dgh\"\n",
    "p1 = \"[a-zA-Z]+\"\n",
    "p2 = \"[^a-zA-Z_0-9]+\"\n",
    "dig = [x for x in re.findall(r'\\d+',a)]\n",
    "cha = [x for x in re.findall(p1,a)]\n",
    "sch = [x for x in re.findall(p2,a)]\n",
    "print(dig)\n",
    "print(cha)\n",
    "print(sch)\n"
   ]
  },
  {
   "cell_type": "code",
   "execution_count": 31,
   "metadata": {},
   "outputs": [
    {
     "name": "stdout",
     "output_type": "stream",
     "text": [
      "True\n",
      "False\n",
      "True\n"
     ]
    }
   ],
   "source": [
    "#is vs == \n",
    "print(True == 1)\n",
    "print('' ==1 )\n",
    "print(10 == 10.0)\n",
    "\n",
    "#print(True is 1)\n",
    "#print('' is 1)\n",
    "#print(10 is 10.0)"
   ]
  },
  {
   "cell_type": "code",
   "execution_count": 32,
   "metadata": {},
   "outputs": [
    {
     "name": "stdout",
     "output_type": "stream",
     "text": [
      "a 1\n",
      "b 2\n",
      "c 3\n",
      "d 4\n"
     ]
    }
   ],
   "source": [
    "#zipping\n",
    "a =[1,2,3,4]\n",
    "b =['a','b','c','d']\n",
    "for i,j in zip(b,a):\n",
    "     print(i,j)"
   ]
  },
  {
   "cell_type": "code",
   "execution_count": 33,
   "metadata": {},
   "outputs": [
    {
     "name": "stdout",
     "output_type": "stream",
     "text": [
      "55\n"
     ]
    }
   ],
   "source": [
    "#total\n",
    "my_list = [ 1,2,3,4,5,6,7,8,9,10 ]\n",
    "sum = 0\n",
    "for x in my_list:\n",
    "     sum += x\n",
    "print(sum)"
   ]
  },
  {
   "cell_type": "code",
   "execution_count": 34,
   "metadata": {},
   "outputs": [
    {
     "name": "stdout",
     "output_type": "stream",
     "text": [
      "0\n",
      "1\n",
      "2\n",
      "3\n",
      "4\n",
      "\n",
      "\n",
      "0\n",
      "2\n",
      "4\n",
      "6\n",
      "8\n",
      "\n",
      "\n",
      "5\n",
      "4\n",
      "3\n",
      "2\n",
      "1\n"
     ]
    }
   ],
   "source": [
    "#for loops range\n",
    "for _ in range(5):\n",
    "     print(_)\n",
    "print('\\n')\n",
    "for _ in range(0,10,2):\n",
    "     print(_)\n",
    "print('\\n')\n",
    "for _ in range(5,0,-1):\n",
    "     print(_)"
   ]
  },
  {
   "cell_type": "code",
   "execution_count": 35,
   "metadata": {},
   "outputs": [
    {
     "name": "stdout",
     "output_type": "stream",
     "text": [
      "0 1\n",
      "1 2\n",
      "2 3\n",
      "3 4\n"
     ]
    }
   ],
   "source": [
    "#enumerate\n",
    "for i , char in enumerate ((1,2,3,4)):\n",
    "  print ( i , char )"
   ]
  },
  {
   "cell_type": "code",
   "execution_count": 36,
   "metadata": {},
   "outputs": [],
   "source": [
    "for i,har in enumerate (list(range(100))):\n",
    "  if char == 50:\n",
    "     print(i,char)"
   ]
  },
  {
   "cell_type": "code",
   "execution_count": 37,
   "metadata": {},
   "outputs": [
    {
     "name": "stdout",
     "output_type": "stream",
     "text": [
      "0\n"
     ]
    }
   ],
   "source": [
    "# while \n",
    "i = 0\n",
    "while i < 50:\n",
    "     print(i)\n",
    "     i += 1\n",
    "     break\n",
    "else:\n",
    "     print(\"done with execution\") #else statement workls when there is no break statement in while"
   ]
  },
  {
   "cell_type": "code",
   "execution_count": 38,
   "metadata": {},
   "outputs": [],
   "source": [
    "#while 2\n",
    "while True :\n",
    "  response = input ('say something : ')\n",
    "  if response == 'bye':\n",
    "     break\n",
    "  "
   ]
  },
  {
   "cell_type": "code",
   "execution_count": 39,
   "metadata": {},
   "outputs": [
    {
     "name": "stdout",
     "output_type": "stream",
     "text": [
      "   *   \n",
      "  ***  \n",
      " ***** \n",
      "*******\n",
      "   *   \n",
      "   *   \n"
     ]
    }
   ],
   "source": [
    "#Excercise \n",
    "picture = [\n",
    "[0,0,0,1,0,0,0],\n",
    "[0,0,1,1,1,0,0],\n",
    "[0,1,1,1,1,1,0],\n",
    "[1,1,1,1,1,1,1],\n",
    "[0,0,0,1,0,0,0],\n",
    "[0,0,0,1,0,0,0]\n",
    "]\n",
    "for item in picture:\n",
    "     for value in item:\n",
    "          if value == 0:\n",
    "               print(\" \", end ='')\n",
    "          else:\n",
    "               print(\"*\",end ='')\n",
    "     print('')"
   ]
  },
  {
   "cell_type": "code",
   "execution_count": 40,
   "metadata": {},
   "outputs": [
    {
     "name": "stdout",
     "output_type": "stream",
     "text": [
      "['b', 'n']\n"
     ]
    }
   ],
   "source": [
    "# Exercise : Check for duplicates in list :\n",
    "some_list= ['a','b','c','b','d','m','n','n']\n",
    "lis= []\n",
    "d = [x for x in some_list if some_list.count(x)>1]\n",
    "i = 0\n",
    "while i<2:\n",
    "     d.remove(d[i])\n",
    "     i += 1\n",
    "print(d)"
   ]
  },
  {
   "cell_type": "code",
   "execution_count": 41,
   "metadata": {},
   "outputs": [
    {
     "name": "stdout",
     "output_type": "stream",
     "text": [
      "['b', 'n']\n"
     ]
    }
   ],
   "source": [
    "#solution 2\n",
    "some_list= ['a','b','c','b','d','m','n','n']\n",
    "lis = []\n",
    "for i in some_list:\n",
    "     if some_list.count(i)>1:\n",
    "          if i not in lis:\n",
    "               lis.append(i)\n",
    "print(lis)"
   ]
  },
  {
   "cell_type": "code",
   "execution_count": 45,
   "metadata": {},
   "outputs": [],
   "source": [
    "#Object oriented programming language\n",
    "class My_Object:\n",
    "     pass\n",
    "obj1 = My_Object()"
   ]
  },
  {
   "cell_type": "code",
   "execution_count": 46,
   "metadata": {},
   "outputs": [
    {
     "name": "stdout",
     "output_type": "stream",
     "text": [
      "<__main__.My_Object object at 0x7fb5c45afd30>\n"
     ]
    }
   ],
   "source": [
    "print(obj1)"
   ]
  },
  {
   "cell_type": "code",
   "execution_count": 43,
   "metadata": {},
   "outputs": [
    {
     "name": "stdout",
     "output_type": "stream",
     "text": [
      "darshan\n",
      "23\n"
     ]
    }
   ],
   "source": [
    "class Player:\n",
    "     def __init__(self,name,age):\n",
    "          self.name = name\n",
    "          self.age = age\n",
    "\n",
    "     def run(self):\n",
    "          return 'Done executing run function'\n",
    "\n",
    "#OBJECTS\n",
    "Player1 = Player('darshan',23)\n",
    "\n",
    "print(Player1.name)\n",
    "print(Player1.age)\n"
   ]
  },
  {
   "cell_type": "code",
   "execution_count": 1,
   "metadata": {},
   "outputs": [
    {
     "name": "stdout",
     "output_type": "stream",
     "text": [
      "The oldest cat is 3 years old.\n"
     ]
    }
   ],
   "source": [
    "#Given the below class:\n",
    "class Cat:\n",
    "    species = 'mammal'\n",
    "    def __init__(self, name, age):\n",
    "        self.name = name\n",
    "        self.age = age\n",
    "\n",
    "\n",
    "# 1 Instantiate the Cat object with 3 cats\n",
    "Cat1 = Cat('Meow1',1)\n",
    "Cat2 = Cat('Meow2',2)\n",
    "Cat3 = Cat('Meow3',3)\n",
    "\n",
    "# 2 Create a function that finds the oldest cat\n",
    "def Oldest_cat(*args):\n",
    "    return max(args)\n",
    "    \n",
    "    \n",
    "# 3 Print out: \"The oldest cat is x years old.\". x will be the oldest cat age by using the function in #2\n",
    "old_age = Oldest_cat(1,2,3)\n",
    "print(f'The oldest cat is {old_age} years old.')"
   ]
  },
  {
   "cell_type": "code",
   "execution_count": 2,
   "metadata": {},
   "outputs": [
    {
     "name": "stdout",
     "output_type": "stream",
     "text": [
      "30\n"
     ]
    }
   ],
   "source": [
    "#class object attribute & Attribute\n",
    "class Dex:\n",
    "     Dg = True #class Object attribute\n",
    "     def __init__(self,a,b):\n",
    "          if(Dex.Dg == True):\n",
    "               self.a = a\n",
    "               self.b = b\n",
    "     def sum(self):\n",
    "          return self.a + self.b\n",
    "d1 = Dex(10,20)\n",
    "print(d1.sum())"
   ]
  },
  {
   "cell_type": "code",
   "execution_count": 3,
   "metadata": {},
   "outputs": [
    {
     "name": "stdout",
     "output_type": "stream",
     "text": [
      "20\n",
      "Toby\n"
     ]
    }
   ],
   "source": [
    "#class method and Static method\n",
    "class Dex1:\n",
    "     def __init__(self,name,age):\n",
    "          self.name = name\n",
    "          self.age = age\n",
    "\n",
    "     @classmethod\n",
    "     def fun(cls,n1,n2):\n",
    "          return cls('Toby',n1+n2)\n",
    "          \n",
    "D = Dex1.fun(10,10)\n",
    "print(D.age)\n",
    "print(D.name)\n",
    "\n"
   ]
  },
  {
   "cell_type": "code",
   "execution_count": null,
   "metadata": {},
   "outputs": [],
   "source": []
  }
 ],
 "metadata": {
  "kernelspec": {
   "display_name": "Python 3.10.4 64-bit",
   "language": "python",
   "name": "python3"
  },
  "language_info": {
   "codemirror_mode": {
    "name": "ipython",
    "version": 3
   },
   "file_extension": ".py",
   "mimetype": "text/x-python",
   "name": "python",
   "nbconvert_exporter": "python",
   "pygments_lexer": "ipython3",
   "version": "3.10.6"
  },
  "orig_nbformat": 4,
  "vscode": {
   "interpreter": {
    "hash": "916dbcbb3f70747c44a77c7bcd40155683ae19c65e1c03b4aa3499c5328201f1"
   }
  }
 },
 "nbformat": 4,
 "nbformat_minor": 2
}
